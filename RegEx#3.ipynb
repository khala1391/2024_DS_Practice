{
 "cells": [
  {
   "cell_type": "code",
   "execution_count": 332,
   "id": "d3d6a1fd-802c-43eb-987c-63ce854fde03",
   "metadata": {},
   "outputs": [],
   "source": [
    "import numpy as np\n",
    "import pandas as pd\n",
    "import matplotlib.pyplot as plt\n",
    "%matplotlib inline"
   ]
  },
  {
   "cell_type": "code",
   "execution_count": 333,
   "id": "70d32669-ff3f-4a59-9d82-6743e4ae3d87",
   "metadata": {},
   "outputs": [
    {
     "data": {
      "text/html": [
       "<div>\n",
       "<style scoped>\n",
       "    .dataframe tbody tr th:only-of-type {\n",
       "        vertical-align: middle;\n",
       "    }\n",
       "\n",
       "    .dataframe tbody tr th {\n",
       "        vertical-align: top;\n",
       "    }\n",
       "\n",
       "    .dataframe thead th {\n",
       "        text-align: right;\n",
       "    }\n",
       "</style>\n",
       "<table border=\"1\" class=\"dataframe\">\n",
       "  <thead>\n",
       "    <tr style=\"text-align: right;\">\n",
       "      <th></th>\n",
       "      <th>Unnamed: 0</th>\n",
       "      <th>Unnamed: 0.1</th>\n",
       "      <th>ID</th>\n",
       "      <th>Name</th>\n",
       "      <th>Age</th>\n",
       "      <th>Photo</th>\n",
       "      <th>Nationality</th>\n",
       "      <th>Flag</th>\n",
       "      <th>Overall</th>\n",
       "      <th>Potential</th>\n",
       "      <th>Club</th>\n",
       "      <th>Club Logo</th>\n",
       "      <th>Value</th>\n",
       "      <th>Wage</th>\n",
       "      <th>Special</th>\n",
       "    </tr>\n",
       "  </thead>\n",
       "  <tbody>\n",
       "    <tr>\n",
       "      <th>0</th>\n",
       "      <td>0</td>\n",
       "      <td>0</td>\n",
       "      <td>20801</td>\n",
       "      <td>Cristiano Ronaldo</td>\n",
       "      <td>32</td>\n",
       "      <td>https://cdn.sofifa.org/players/10/16/20801.png</td>\n",
       "      <td>Portugal</td>\n",
       "      <td>https://cdn.sofifa.org/flags/38.png</td>\n",
       "      <td>94</td>\n",
       "      <td>94</td>\n",
       "      <td>Real Madrid CF</td>\n",
       "      <td>https://cdn.sofifa.org/24/18/teams/243.png</td>\n",
       "      <td>€95.5M</td>\n",
       "      <td>€565K</td>\n",
       "      <td>2228</td>\n",
       "    </tr>\n",
       "    <tr>\n",
       "      <th>1</th>\n",
       "      <td>1</td>\n",
       "      <td>1</td>\n",
       "      <td>158023</td>\n",
       "      <td>L. Messi</td>\n",
       "      <td>30</td>\n",
       "      <td>https://cdn.sofifa.org/players/10/16/158023.png</td>\n",
       "      <td>Argentina</td>\n",
       "      <td>https://cdn.sofifa.org/flags/52.png</td>\n",
       "      <td>93</td>\n",
       "      <td>93</td>\n",
       "      <td>FC Barcelona</td>\n",
       "      <td>https://cdn.sofifa.org/24/18/teams/241.png</td>\n",
       "      <td>€105M</td>\n",
       "      <td>€565K</td>\n",
       "      <td>2154</td>\n",
       "    </tr>\n",
       "    <tr>\n",
       "      <th>2</th>\n",
       "      <td>2</td>\n",
       "      <td>2</td>\n",
       "      <td>190871</td>\n",
       "      <td>Neymar</td>\n",
       "      <td>25</td>\n",
       "      <td>https://cdn.sofifa.org/players/10/16/190871.png</td>\n",
       "      <td>Brazil</td>\n",
       "      <td>https://cdn.sofifa.org/flags/54.png</td>\n",
       "      <td>92</td>\n",
       "      <td>94</td>\n",
       "      <td>Paris Saint-Germain</td>\n",
       "      <td>https://cdn.sofifa.org/24/18/teams/73.png</td>\n",
       "      <td>€123M</td>\n",
       "      <td>€280K</td>\n",
       "      <td>2100</td>\n",
       "    </tr>\n",
       "    <tr>\n",
       "      <th>3</th>\n",
       "      <td>3</td>\n",
       "      <td>3</td>\n",
       "      <td>176580</td>\n",
       "      <td>L. Suárez</td>\n",
       "      <td>30</td>\n",
       "      <td>https://cdn.sofifa.org/players/10/16/176580.png</td>\n",
       "      <td>Uruguay</td>\n",
       "      <td>https://cdn.sofifa.org/flags/60.png</td>\n",
       "      <td>92</td>\n",
       "      <td>92</td>\n",
       "      <td>FC Barcelona</td>\n",
       "      <td>https://cdn.sofifa.org/24/18/teams/241.png</td>\n",
       "      <td>€97M</td>\n",
       "      <td>€510K</td>\n",
       "      <td>2291</td>\n",
       "    </tr>\n",
       "    <tr>\n",
       "      <th>4</th>\n",
       "      <td>4</td>\n",
       "      <td>4</td>\n",
       "      <td>167495</td>\n",
       "      <td>M. Neuer</td>\n",
       "      <td>31</td>\n",
       "      <td>https://cdn.sofifa.org/players/10/16/167495.png</td>\n",
       "      <td>Germany</td>\n",
       "      <td>https://cdn.sofifa.org/flags/21.png</td>\n",
       "      <td>92</td>\n",
       "      <td>92</td>\n",
       "      <td>FC Bayern Munich</td>\n",
       "      <td>https://cdn.sofifa.org/24/18/teams/21.png</td>\n",
       "      <td>€61M</td>\n",
       "      <td>€230K</td>\n",
       "      <td>1493</td>\n",
       "    </tr>\n",
       "  </tbody>\n",
       "</table>\n",
       "</div>"
      ],
      "text/plain": [
       "   Unnamed: 0  Unnamed: 0.1      ID               Name  Age  \\\n",
       "0           0             0   20801  Cristiano Ronaldo   32   \n",
       "1           1             1  158023           L. Messi   30   \n",
       "2           2             2  190871             Neymar   25   \n",
       "3           3             3  176580          L. Suárez   30   \n",
       "4           4             4  167495           M. Neuer   31   \n",
       "\n",
       "                                             Photo Nationality  \\\n",
       "0   https://cdn.sofifa.org/players/10/16/20801.png    Portugal   \n",
       "1  https://cdn.sofifa.org/players/10/16/158023.png   Argentina   \n",
       "2  https://cdn.sofifa.org/players/10/16/190871.png      Brazil   \n",
       "3  https://cdn.sofifa.org/players/10/16/176580.png     Uruguay   \n",
       "4  https://cdn.sofifa.org/players/10/16/167495.png     Germany   \n",
       "\n",
       "                                  Flag  Overall  Potential  \\\n",
       "0  https://cdn.sofifa.org/flags/38.png       94         94   \n",
       "1  https://cdn.sofifa.org/flags/52.png       93         93   \n",
       "2  https://cdn.sofifa.org/flags/54.png       92         94   \n",
       "3  https://cdn.sofifa.org/flags/60.png       92         92   \n",
       "4  https://cdn.sofifa.org/flags/21.png       92         92   \n",
       "\n",
       "                  Club                                   Club Logo   Value  \\\n",
       "0       Real Madrid CF  https://cdn.sofifa.org/24/18/teams/243.png  €95.5M   \n",
       "1         FC Barcelona  https://cdn.sofifa.org/24/18/teams/241.png   €105M   \n",
       "2  Paris Saint-Germain   https://cdn.sofifa.org/24/18/teams/73.png   €123M   \n",
       "3         FC Barcelona  https://cdn.sofifa.org/24/18/teams/241.png    €97M   \n",
       "4     FC Bayern Munich   https://cdn.sofifa.org/24/18/teams/21.png    €61M   \n",
       "\n",
       "    Wage  Special  \n",
       "0  €565K     2228  \n",
       "1  €565K     2154  \n",
       "2  €280K     2100  \n",
       "3  €510K     2291  \n",
       "4  €230K     1493  "
      ]
     },
     "execution_count": 333,
     "metadata": {},
     "output_type": "execute_result"
    }
   ],
   "source": [
    "url='https://github.com/prasertcbs/basic-dataset/raw/master/FIFA2018/PlayerPersonalData.csv'\n",
    "df = pd.read_csv(url)\n",
    "df.head()"
   ]
  },
  {
   "cell_type": "code",
   "execution_count": 334,
   "id": "6ffdc7d7-570d-4f20-8f67-47d61f1dbec0",
   "metadata": {},
   "outputs": [
    {
     "data": {
      "text/plain": [
       "Index(['Unnamed: 0', 'Unnamed: 0.1', 'ID', 'Name', 'Age', 'Photo',\n",
       "       'Nationality', 'Flag', 'Overall', 'Potential', 'Club', 'Club Logo',\n",
       "       'Value', 'Wage', 'Special'],\n",
       "      dtype='object')"
      ]
     },
     "execution_count": 334,
     "metadata": {},
     "output_type": "execute_result"
    }
   ],
   "source": [
    "df.columns"
   ]
  },
  {
   "cell_type": "code",
   "execution_count": 335,
   "id": "e9caec09-56b6-4678-bcde-1e9eab410a0d",
   "metadata": {},
   "outputs": [],
   "source": [
    "df = df.drop(columns=['Unnamed: 0', 'Unnamed: 0.1','Photo',\n",
    "                      'Nationality', 'Flag', 'Overall', 'Potential', \n",
    "                    'Club Logo',])"
   ]
  },
  {
   "cell_type": "code",
   "execution_count": 336,
   "id": "cf1089c4-5d11-49f1-8abd-af712ed7d6db",
   "metadata": {},
   "outputs": [
    {
     "data": {
      "text/html": [
       "<div>\n",
       "<style scoped>\n",
       "    .dataframe tbody tr th:only-of-type {\n",
       "        vertical-align: middle;\n",
       "    }\n",
       "\n",
       "    .dataframe tbody tr th {\n",
       "        vertical-align: top;\n",
       "    }\n",
       "\n",
       "    .dataframe thead th {\n",
       "        text-align: right;\n",
       "    }\n",
       "</style>\n",
       "<table border=\"1\" class=\"dataframe\">\n",
       "  <thead>\n",
       "    <tr style=\"text-align: right;\">\n",
       "      <th></th>\n",
       "      <th>ID</th>\n",
       "      <th>Name</th>\n",
       "      <th>Age</th>\n",
       "      <th>Club</th>\n",
       "      <th>Value</th>\n",
       "      <th>Wage</th>\n",
       "      <th>Special</th>\n",
       "    </tr>\n",
       "  </thead>\n",
       "  <tbody>\n",
       "    <tr>\n",
       "      <th>9355</th>\n",
       "      <td>183691</td>\n",
       "      <td>D. Toth</td>\n",
       "      <td>30</td>\n",
       "      <td>FC Admira Wacker Mödling</td>\n",
       "      <td>€475K</td>\n",
       "      <td>€3K</td>\n",
       "      <td>1873</td>\n",
       "    </tr>\n",
       "    <tr>\n",
       "      <th>9345</th>\n",
       "      <td>207754</td>\n",
       "      <td>K. Mayi</td>\n",
       "      <td>24</td>\n",
       "      <td>Stade Brestois 29</td>\n",
       "      <td>€850K</td>\n",
       "      <td>€2K</td>\n",
       "      <td>1577</td>\n",
       "    </tr>\n",
       "    <tr>\n",
       "      <th>15044</th>\n",
       "      <td>228607</td>\n",
       "      <td>D. Reimann</td>\n",
       "      <td>20</td>\n",
       "      <td>Borussia Dortmund</td>\n",
       "      <td>€375K</td>\n",
       "      <td>€4K</td>\n",
       "      <td>989</td>\n",
       "    </tr>\n",
       "    <tr>\n",
       "      <th>11343</th>\n",
       "      <td>241004</td>\n",
       "      <td>F. Carballo</td>\n",
       "      <td>20</td>\n",
       "      <td>Sevilla Atlético</td>\n",
       "      <td>€700K</td>\n",
       "      <td>€2K</td>\n",
       "      <td>1691</td>\n",
       "    </tr>\n",
       "    <tr>\n",
       "      <th>14644</th>\n",
       "      <td>53352</td>\n",
       "      <td>D. Bulman</td>\n",
       "      <td>38</td>\n",
       "      <td>Crawley Town</td>\n",
       "      <td>€70K</td>\n",
       "      <td>€1K</td>\n",
       "      <td>1613</td>\n",
       "    </tr>\n",
       "    <tr>\n",
       "      <th>9742</th>\n",
       "      <td>226273</td>\n",
       "      <td>S. Davis</td>\n",
       "      <td>24</td>\n",
       "      <td>New York Red Bulls</td>\n",
       "      <td>€900K</td>\n",
       "      <td>€2K</td>\n",
       "      <td>1791</td>\n",
       "    </tr>\n",
       "    <tr>\n",
       "      <th>3874</th>\n",
       "      <td>225997</td>\n",
       "      <td>B. Verbič</td>\n",
       "      <td>23</td>\n",
       "      <td>FC København</td>\n",
       "      <td>€4.3M</td>\n",
       "      <td>€13K</td>\n",
       "      <td>1871</td>\n",
       "    </tr>\n",
       "    <tr>\n",
       "      <th>4592</th>\n",
       "      <td>222643</td>\n",
       "      <td>J. Silva</td>\n",
       "      <td>22</td>\n",
       "      <td>Cruz Azul</td>\n",
       "      <td>€2.8M</td>\n",
       "      <td>€16K</td>\n",
       "      <td>1464</td>\n",
       "    </tr>\n",
       "    <tr>\n",
       "      <th>6965</th>\n",
       "      <td>213577</td>\n",
       "      <td>Puertas</td>\n",
       "      <td>25</td>\n",
       "      <td>Granada CF</td>\n",
       "      <td>€1.1M</td>\n",
       "      <td>€6K</td>\n",
       "      <td>1708</td>\n",
       "    </tr>\n",
       "    <tr>\n",
       "      <th>129</th>\n",
       "      <td>220971</td>\n",
       "      <td>N. Keïta</td>\n",
       "      <td>22</td>\n",
       "      <td>RB Leipzig</td>\n",
       "      <td>€34M</td>\n",
       "      <td>€68K</td>\n",
       "      <td>2055</td>\n",
       "    </tr>\n",
       "  </tbody>\n",
       "</table>\n",
       "</div>"
      ],
      "text/plain": [
       "           ID         Name  Age                      Club  Value  Wage  \\\n",
       "9355   183691      D. Toth   30  FC Admira Wacker Mödling  €475K   €3K   \n",
       "9345   207754      K. Mayi   24         Stade Brestois 29  €850K   €2K   \n",
       "15044  228607   D. Reimann   20         Borussia Dortmund  €375K   €4K   \n",
       "11343  241004  F. Carballo   20          Sevilla Atlético  €700K   €2K   \n",
       "14644   53352    D. Bulman   38              Crawley Town   €70K   €1K   \n",
       "9742   226273     S. Davis   24        New York Red Bulls  €900K   €2K   \n",
       "3874   225997    B. Verbič   23              FC København  €4.3M  €13K   \n",
       "4592   222643     J. Silva   22                 Cruz Azul  €2.8M  €16K   \n",
       "6965   213577      Puertas   25                Granada CF  €1.1M   €6K   \n",
       "129    220971     N. Keïta   22                RB Leipzig   €34M  €68K   \n",
       "\n",
       "       Special  \n",
       "9355      1873  \n",
       "9345      1577  \n",
       "15044      989  \n",
       "11343     1691  \n",
       "14644     1613  \n",
       "9742      1791  \n",
       "3874      1871  \n",
       "4592      1464  \n",
       "6965      1708  \n",
       "129       2055  "
      ]
     },
     "execution_count": 336,
     "metadata": {},
     "output_type": "execute_result"
    }
   ],
   "source": [
    "df.sample(10)"
   ]
  },
  {
   "cell_type": "code",
   "execution_count": 337,
   "id": "d10d315b-a19d-454f-9f16-d809ad2093de",
   "metadata": {},
   "outputs": [
    {
     "data": {
      "text/plain": [
       "(17981, 7)"
      ]
     },
     "execution_count": 337,
     "metadata": {},
     "output_type": "execute_result"
    }
   ],
   "source": [
    "df.shape"
   ]
  },
  {
   "cell_type": "code",
   "execution_count": 338,
   "id": "a0cc06aa-8259-4ea0-8439-8241c60c0f28",
   "metadata": {},
   "outputs": [],
   "source": [
    "# pd.Series.to_list(df.Wage).ravel()  #ravel : deprecate\n",
    "np.set_printoptions(edgeitems=200, linewidth=100000)"
   ]
  },
  {
   "cell_type": "markdown",
   "id": "ab382295-f45a-4d10-a37e-7ac5bde21275",
   "metadata": {},
   "source": [
    "https://stackoverflow.com/questions/37149933/how-to-set-max-output-width-in-numpy"
   ]
  },
  {
   "cell_type": "code",
   "execution_count": 339,
   "id": "46a14844-3c8b-40ce-87f6-f44de1a70f1d",
   "metadata": {},
   "outputs": [
    {
     "data": {
      "text/plain": [
       "array(['€565K', '€565K', '€280K', '€510K', '€230K', '€355K', '€215K', '€295K', '€340K', '€275K', '€310K', '€285K', '€190K', '€265K', '€340K', '€370K', '€325K', '€225K', '€110K', '€215K', '€82K', '€150K', '€225K', '€165K', '€210K', '€215K', '€125K', '€215K', '€265K', '€165K', '€175K', '€240K', '€225K', '€190K', '€130K', '€195K', '€165K', '€160K', '€160K', '€250K', '€130K', '€275K', '€220K', '€91K', '€240K', '€260K', '€165K', '€250K', '€250K', '€150K', '€210K', '€175K', '€190K', '€250K', '€205K', '€120K', '€165K', '€190K', '€235K', '€130K', '€165K', '€135K', '€110K', '€115K', '€295K', '€210K', '€175K', '€94K', '€92K', '€77K', '€175K', '€195K', '€115K', '€180K', '€165K', '€195K', '€46K', '€61K', '€155K', '€60K', '€215K', '€190K', '€160K', '€145K', '€160K', '€160K', '€130K', '€145K', '€49K', '€81K', '€170K', '€105K', '€150K', '€175K', '€165K', '€36K', '€115K', '€175K', '€195K', '€120K', '€105K', '€170K', '€96K', '€39K', '€84K', '€96K', '€145K', '€190K', '€105K', '€200K', '€69K', '€59K', '€110K', '€115K', '€200K', '€160K', '€54K', '€46K', '€195K', '€145K', '€60K', '€68K', '€150K', '€160K', '€115K', '€60K', '€38K', '€31K', '€150K', '€68K', '€53K', '€28K', '€37K', '€70K', '€78K', '€87K', '€37K', '€135K', '€58K', '€75K', '€75K', '€21K', '€135K', '€88K', '€89K', '€135K', '€18K', '€68K', '€60K', '€56K', '€28K', '€110K', '€115K', '€39K', '€140K', '€140K', '€100K', '€45K', '€75K', '€115K', '€28K', '€130K', '€0', '€25K', '€105K', '€66K', '€87K', '€0', '€15K', '€70K', '€135K', '€135K', '€50K', '€27K', '€19K', '€39K', '€115K', '€21K', '€73K', '€66K', '€40K', '€130K', '€65K', '€115K', '€80K', '€46K', '€105K', '€62K', '€19K', '€130K', '€155K', '€47K', '€47K', '€73K', '€59K', '€67K', '€145K', '€10K', '€35K', '€125K', ..., '€1K', '€2K', '€1K', '€1K', '€1K', '€1K', '€1K', '€1K', '€1K', '€1K', '€1K', '€2K', '€1K', '€1K', '€1K', '€1K', '€1K', '€1K', '€2K', '€1K', '€1K', '€1K', '€1K', '€1K', '€1K', '€1K', '€1K', '€1K', '€1K', '€1K', '€1K', '€1K', '€1K', '€1K', '€1K', '€2K', '€1K', '€1K', '€1K', '€1K', '€1K', '€1K', '€1K', '€2K', '€1K', '€1K', '€1K', '€1K', '€1K', '€1K', '€1K', '€1K', '€1K', '€1K', '€1K', '€1K', '€1K', '€1K', '€2K', '€2K', '€1K', '€1K', '€1K', '€1K', '€1K', '€1K', '€1K', '€1K', '€2K', '€1K', '€1K', '€1K', '€1K', '€1K', '€1K', '€1K', '€2K', '€1K', '€1K', '€1K', '€1K', '€1K', '€1K', '€1K', '€1K', '€1K', '€1K', '€1K', '€1K', '€1K', '€1K', '€1K', '€1K', '€3K', '€1K', '€1K', '€1K', '€1K', '€4K', '€1K', '€1K', '€1K', '€1K', '€1K', '€1K', '€1K', '€1K', '€1K', '€1K', '€1K', '€1K', '€1K', '€1K', '€1K', '€1K', '€1K', '€1K', '€1K', '€1K', '€1K', '€1K', '€1K', '€1K', '€1K', '€1K', '€1K', '€1K', '€1K', '€1K', '€1K', '€1K', '€1K', '€1K', '€1K', '€2K', '€1K', '€1K', '€1K', '€1K', '€1K', '€1K', '€1K', '€1K', '€1K', '€2K', '€1K', '€1K', '€1K', '€1K', '€1K', '€1K', '€1K', '€1K', '€1K', '€1K', '€1K', '€2K', '€1K', '€1K', '€1K', '€1K', '€1K', '€2K', '€2K', '€1K', '€1K', '€1K', '€1K', '€1K', '€1K', '€1K', '€1K', '€1K', '€1K', '€1K', '€1K', '€1K', '€1K', '€1K', '€1K', '€5K', '€1K', '€1K', '€1K', '€1K', '€1K', '€1K', '€1K', '€1K', '€1K', '€2K', '€1K', '€1K', '€1K', '€1K', '€1K', '€1K', '€1K', '€1K', '€1K'], dtype=object)"
      ]
     },
     "execution_count": 339,
     "metadata": {},
     "output_type": "execute_result"
    }
   ],
   "source": [
    "pd.Series.to_numpy(df.Wage)  # new"
   ]
  },
  {
   "cell_type": "code",
   "execution_count": 340,
   "id": "d98b9ddc-5bb7-466b-a459-49cddc540b88",
   "metadata": {},
   "outputs": [
    {
     "data": {
      "text/plain": [
       "array(['€95.5M', '€105M', '€123M', '€97M', '€61M', '€92M', '€64.5M', '€90.5M', '€79M', '€77M', '€52M', '€83M', '€59M', '€67.5M', '€57M', '€69.5M', '€66.5M', '€38M', '€4.5M', '€79M', '€57M', '€75M', '€70.5M', '€61M', '€44M', '€48M', '€40M', '€48M', '€60M', '€38M', '€34M', '€27M', '€36M', '€52.5M', '€64.5M', '€66.5M', '€65M', '€37.5M', '€48.5M', '€38M', '€48.5M', '€48.5M', '€44M', '€29M', '€37.5M', '€29.5M', '€59M', '€56M', '€56.5M', '€44.5M', '€59M', '€44M', '€47.5M', '€36M', '€56M', '€45M', '€40.5M', '€33M', '€46M', '€42.5M', '€36M', '€43M', '€34.5M', '€25.5M', '€44.5M', '€41M', '€22.5M', '€13.5M', '€10.5M', '€51.5M', '€46.5M', '€42M', '€45M', '€48.5M', '€24.5M', '€39M', '€22M', '€34M', '€35.5M', '€30M', '€30.5M', '€46M', '€37.5M', '€37.5M', '€43.5M', '€33M', '€28.5M', '€28.5M', '€24.5M', '€25M', '€26M', '€5M', '€35.5M', '€46M', '€43.5M', '€35.5M', '€43M', '€39M', '€32M', '€39.5M', '€42M', '€41M', '€32.5M', '€31M', '€39.5M', '€31.5M', '€31.5M', '€32M', '€35M', '€30.5M', '€26M', '€18.5M', '€31.5M', '€28M', '€31.5M', '€29M', '€25M', '€25M', '€30.5M', '€23M', '€29.5M', '€28M', '€21M', '€21M', '€9M', '€31M', '€11M', '€41.5M', '€40M', '€34M', '€28.5M', '€25.5M', '€38.5M', '€34M', '€30.5M', '€26M', '€29.5M', '€32.5M', '€37M', '€31.5M', '€30.5M', '€27.5M', '€29.5M', '€30.5M', '€27.5M', '€34M', '€27.5M', '€27M', '€22.5M', '€29M', '€25M', '€26.5M', '€24.5M', '€26M', '€20M', '€21M', '€25.5M', '€25.5M', '€26M', '€26.5M', '€27M', '€24M', '€0', '€21M', '€27M', '€24.5M', '€24.5M', '€0', '€25M', '€25.5M', '€23.5M', '€25M', '€20M', '€25.5M', '€17.5M', '€21M', '€25.5M', '€16.5M', '€25M', '€14.5M', '€19M', '€17M', '€19M', '€25M', '€20M', '€17.5M', '€17.5M', '€14.5M', '€6M', '€19.5M', '€10.5M', '€15.5M', '€24.5M', '€10.5M', '€10.5M', '€15.5M', '€12.5M', '€3.5M', '€28.5M', '€34.5M', ..., '€50K', '€40K', '€60K', '€50K', '€60K', '€40K', '€30K', '€30K', '€60K', '€30K', '€40K', '€30K', '€60K', '€60K', '€40K', '€40K', '€50K', '€50K', '€70K', '€60K', '€50K', '€60K', '€60K', '€60K', '€60K', '€60K', '€30K', '€50K', '€60K', '€60K', '€60K', '€50K', '€50K', '€60K', '€60K', '€40K', '€60K', '€30K', '€50K', '€40K', '€50K', '€60K', '€50K', '€30K', '€50K', '€30K', '€60K', '€40K', '€60K', '€60K', '€30K', '€50K', '€60K', '€50K', '€50K', '€50K', '€50K', '€50K', '€60K', '€60K', '€60K', '€60K', '€60K', '€60K', '€60K', '€50K', '€60K', '€60K', '€60K', '€40K', '€60K', '€50K', '€40K', '€40K', '€60K', '€50K', '€40K', '€60K', '€60K', '€60K', '€50K', '€50K', '€50K', '€30K', '€60K', '€60K', '€50K', '€30K', '€50K', '€40K', '€30K', '€50K', '€60K', '€50K', '€50K', '€40K', '€50K', '€60K', '€60K', '€40K', '€50K', '€60K', '€60K', '€60K', '€50K', '€60K', '€40K', '€60K', '€50K', '€60K', '€60K', '€50K', '€50K', '€50K', '€30K', '€40K', '€40K', '€50K', '€50K', '€60K', '€30K', '€60K', '€50K', '€30K', '€40K', '€50K', '€50K', '€50K', '€50K', '€50K', '€40K', '€50K', '€50K', '€30K', '€50K', '€50K', '€20K', '€30K', '€50K', '€60K', '€50K', '€60K', '€10K', '€60K', '€60K', '€50K', '€40K', '€60K', '€60K', '€50K', '€50K', '€60K', '€50K', '€40K', '€50K', '€60K', '€30K', '€60K', '€50K', '€50K', '€60K', '€60K', '€50K', '€60K', '€50K', '€20K', '€30K', '€70K', '€40K', '€60K', '€40K', '€60K', '€60K', '€60K', '€60K', '€50K', '€50K', '€40K', '€60K', '€70K', '€60K', '€50K', '€50K', '€60K', '€60K', '€60K', '€60K', '€60K', '€60K', '€40K', '€60K', '€60K', '€50K', '€40K', '€30K', '€50K', '€0', '€60K', '€60K', '€50K'], dtype=object)"
      ]
     },
     "execution_count": 340,
     "metadata": {},
     "output_type": "execute_result"
    }
   ],
   "source": [
    "pd.Series.to_numpy(df.Value)"
   ]
  },
  {
   "cell_type": "code",
   "execution_count": 341,
   "id": "24e7be93-ff79-4d19-9027-49c512911453",
   "metadata": {},
   "outputs": [],
   "source": [
    "np.set_printoptions(edgeitems=20, suppress = False, linewidth=75)\n",
    "# edgeitems (default =3)\n",
    "# suppress (default = False)\n",
    "# linewidth (default = 75)"
   ]
  },
  {
   "cell_type": "code",
   "execution_count": 342,
   "id": "45aec089-3385-4216-aed8-3634f3bc832c",
   "metadata": {},
   "outputs": [
    {
     "data": {
      "text/plain": [
       "Index(['ID', 'Name', 'Age', 'Club', 'Value', 'Wage', 'Special'], dtype='object')"
      ]
     },
     "execution_count": 342,
     "metadata": {},
     "output_type": "execute_result"
    }
   ],
   "source": [
    "df.columns"
   ]
  },
  {
   "cell_type": "code",
   "execution_count": 343,
   "id": "13b8f887-9ffb-4e06-afda-295fbfc132c1",
   "metadata": {},
   "outputs": [
    {
     "data": {
      "text/plain": [
       "10756    K\n",
       "1393     M\n",
       "10714    K\n",
       "17292    K\n",
       "21       M\n",
       "4669     M\n",
       "16218    K\n",
       "10320    K\n",
       "13564    K\n",
       "11612    K\n",
       "Name: Value, dtype: object"
      ]
     },
     "execution_count": 343,
     "metadata": {},
     "output_type": "execute_result"
    }
   ],
   "source": [
    "df['Value'].str[-1].sample(10)"
   ]
  },
  {
   "cell_type": "code",
   "execution_count": 344,
   "id": "568d1e93-9a96-4660-93b2-2e08a63ea8f4",
   "metadata": {},
   "outputs": [
    {
     "data": {
      "text/plain": [
       "array(['M', '0', 'K'], dtype=object)"
      ]
     },
     "execution_count": 344,
     "metadata": {},
     "output_type": "execute_result"
    }
   ],
   "source": [
    "df['Value'].str[-1].unique()"
   ]
  },
  {
   "cell_type": "code",
   "execution_count": 345,
   "id": "b4aa039d-af4a-4d53-a9da-a190abc07213",
   "metadata": {},
   "outputs": [],
   "source": [
    "def value_factor(s: str):\n",
    "    s=s.strip().upper()\n",
    "    if s[-1] == 'M':\n",
    "        return 1e6\n",
    "    elif s[-1] == 'K' :\n",
    "        return 1000\n",
    "    else:\n",
    "        return 1"
   ]
  },
  {
   "cell_type": "code",
   "execution_count": 346,
   "id": "85ca7c29-7f39-4c67-be6f-2ec4f5d4b7fc",
   "metadata": {},
   "outputs": [
    {
     "data": {
      "text/plain": [
       "1000000.0"
      ]
     },
     "execution_count": 346,
     "metadata": {},
     "output_type": "execute_result"
    }
   ],
   "source": [
    "# check\n",
    "value_factor('€50.5m')"
   ]
  },
  {
   "cell_type": "code",
   "execution_count": 347,
   "id": "4514fc68-203d-4428-aaee-3ec3b2b1ef2c",
   "metadata": {},
   "outputs": [],
   "source": [
    "import re\n",
    "def str_value (s:str):\n",
    "    fact = value_factor(s)\n",
    "    return float(re.sub(r'[^0-9.]','',s))*fact\n",
    "\n",
    "# https://docs.python.org/3/library/re.html#re.sub"
   ]
  },
  {
   "cell_type": "code",
   "execution_count": 348,
   "id": "f17e2af1-d44b-48bd-9354-8ea5e5e20ae3",
   "metadata": {},
   "outputs": [
    {
     "name": "stdout",
     "output_type": "stream",
     "text": [
      "50500000.0\n",
      "20.5\n",
      "50500.0\n"
     ]
    }
   ],
   "source": [
    "# check\n",
    "print(str_value('€50.5m'))\n",
    "print(str_value('€20.5'))\n",
    "print(str_value('€50.5K'))"
   ]
  },
  {
   "cell_type": "code",
   "execution_count": 349,
   "id": "637bee00-0756-4d18-8d43-cbaf72f2a2f4",
   "metadata": {},
   "outputs": [
    {
     "data": {
      "text/html": [
       "<div>\n",
       "<style scoped>\n",
       "    .dataframe tbody tr th:only-of-type {\n",
       "        vertical-align: middle;\n",
       "    }\n",
       "\n",
       "    .dataframe tbody tr th {\n",
       "        vertical-align: top;\n",
       "    }\n",
       "\n",
       "    .dataframe thead th {\n",
       "        text-align: right;\n",
       "    }\n",
       "</style>\n",
       "<table border=\"1\" class=\"dataframe\">\n",
       "  <thead>\n",
       "    <tr style=\"text-align: right;\">\n",
       "      <th></th>\n",
       "      <th>Value</th>\n",
       "      <th>Wage</th>\n",
       "    </tr>\n",
       "  </thead>\n",
       "  <tbody>\n",
       "    <tr>\n",
       "      <th>37</th>\n",
       "      <td>€37.5M</td>\n",
       "      <td>€160K</td>\n",
       "    </tr>\n",
       "    <tr>\n",
       "      <th>9116</th>\n",
       "      <td>€1M</td>\n",
       "      <td>€2K</td>\n",
       "    </tr>\n",
       "    <tr>\n",
       "      <th>8226</th>\n",
       "      <td>€975K</td>\n",
       "      <td>€5K</td>\n",
       "    </tr>\n",
       "    <tr>\n",
       "      <th>273</th>\n",
       "      <td>€20M</td>\n",
       "      <td>€64K</td>\n",
       "    </tr>\n",
       "    <tr>\n",
       "      <th>9749</th>\n",
       "      <td>€925K</td>\n",
       "      <td>€9K</td>\n",
       "    </tr>\n",
       "    <tr>\n",
       "      <th>8488</th>\n",
       "      <td>€230K</td>\n",
       "      <td>€7K</td>\n",
       "    </tr>\n",
       "    <tr>\n",
       "      <th>5435</th>\n",
       "      <td>€1.6M</td>\n",
       "      <td>€11K</td>\n",
       "    </tr>\n",
       "    <tr>\n",
       "      <th>13838</th>\n",
       "      <td>€325K</td>\n",
       "      <td>€1K</td>\n",
       "    </tr>\n",
       "    <tr>\n",
       "      <th>2657</th>\n",
       "      <td>€3.8M</td>\n",
       "      <td>€46K</td>\n",
       "    </tr>\n",
       "    <tr>\n",
       "      <th>13361</th>\n",
       "      <td>€350K</td>\n",
       "      <td>€1K</td>\n",
       "    </tr>\n",
       "  </tbody>\n",
       "</table>\n",
       "</div>"
      ],
      "text/plain": [
       "        Value   Wage\n",
       "37     €37.5M  €160K\n",
       "9116      €1M    €2K\n",
       "8226    €975K    €5K\n",
       "273      €20M   €64K\n",
       "9749    €925K    €9K\n",
       "8488    €230K    €7K\n",
       "5435    €1.6M   €11K\n",
       "13838   €325K    €1K\n",
       "2657    €3.8M   €46K\n",
       "13361   €350K    €1K"
      ]
     },
     "execution_count": 349,
     "metadata": {},
     "output_type": "execute_result"
    }
   ],
   "source": [
    "df[['Value', 'Wage']].sample(10)"
   ]
  },
  {
   "cell_type": "code",
   "execution_count": 350,
   "id": "bec4739b-765c-4475-b851-152afcb9e452",
   "metadata": {
    "editable": true,
    "slideshow": {
     "slide_type": ""
    },
    "tags": []
   },
   "outputs": [
    {
     "data": {
      "text/html": [
       "<div>\n",
       "<style scoped>\n",
       "    .dataframe tbody tr th:only-of-type {\n",
       "        vertical-align: middle;\n",
       "    }\n",
       "\n",
       "    .dataframe tbody tr th {\n",
       "        vertical-align: top;\n",
       "    }\n",
       "\n",
       "    .dataframe thead th {\n",
       "        text-align: right;\n",
       "    }\n",
       "</style>\n",
       "<table border=\"1\" class=\"dataframe\">\n",
       "  <thead>\n",
       "    <tr style=\"text-align: right;\">\n",
       "      <th></th>\n",
       "      <th>ID</th>\n",
       "      <th>Name</th>\n",
       "      <th>Age</th>\n",
       "      <th>Club</th>\n",
       "      <th>Value</th>\n",
       "      <th>Wage</th>\n",
       "      <th>Special</th>\n",
       "    </tr>\n",
       "  </thead>\n",
       "  <tbody>\n",
       "    <tr>\n",
       "      <th>8859</th>\n",
       "      <td>209177</td>\n",
       "      <td>T. Bu Haymid</td>\n",
       "      <td>29</td>\n",
       "      <td>Al Fayha</td>\n",
       "      <td>625000</td>\n",
       "      <td>7000</td>\n",
       "      <td>1789</td>\n",
       "    </tr>\n",
       "    <tr>\n",
       "      <th>5975</th>\n",
       "      <td>212024</td>\n",
       "      <td>G. Cvijanović</td>\n",
       "      <td>30</td>\n",
       "      <td>Korona Kielce</td>\n",
       "      <td>975000</td>\n",
       "      <td>4000</td>\n",
       "      <td>1871</td>\n",
       "    </tr>\n",
       "    <tr>\n",
       "      <th>6503</th>\n",
       "      <td>198355</td>\n",
       "      <td>S. Clark</td>\n",
       "      <td>31</td>\n",
       "      <td>D.C. United</td>\n",
       "      <td>650000</td>\n",
       "      <td>4000</td>\n",
       "      <td>1106</td>\n",
       "    </tr>\n",
       "    <tr>\n",
       "      <th>17394</th>\n",
       "      <td>231606</td>\n",
       "      <td>A. Jakupović</td>\n",
       "      <td>19</td>\n",
       "      <td>Empoli</td>\n",
       "      <td>130000</td>\n",
       "      <td>1000</td>\n",
       "      <td>1287</td>\n",
       "    </tr>\n",
       "    <tr>\n",
       "      <th>9251</th>\n",
       "      <td>212340</td>\n",
       "      <td>S. Wannenwetsch</td>\n",
       "      <td>25</td>\n",
       "      <td>Hansa Rostock</td>\n",
       "      <td>775000</td>\n",
       "      <td>1000</td>\n",
       "      <td>1778</td>\n",
       "    </tr>\n",
       "    <tr>\n",
       "      <th>438</th>\n",
       "      <td>193886</td>\n",
       "      <td>D. Didavi</td>\n",
       "      <td>27</td>\n",
       "      <td>VfL Wolfsburg</td>\n",
       "      <td>17000000</td>\n",
       "      <td>73000</td>\n",
       "      <td>2074</td>\n",
       "    </tr>\n",
       "    <tr>\n",
       "      <th>4247</th>\n",
       "      <td>162891</td>\n",
       "      <td>D. Jones</td>\n",
       "      <td>32</td>\n",
       "      <td>Sheffield Wednesday</td>\n",
       "      <td>1800000</td>\n",
       "      <td>36000</td>\n",
       "      <td>1909</td>\n",
       "    </tr>\n",
       "    <tr>\n",
       "      <th>17157</th>\n",
       "      <td>208556</td>\n",
       "      <td>J. Lelan</td>\n",
       "      <td>22</td>\n",
       "      <td>Crawley Town</td>\n",
       "      <td>90000</td>\n",
       "      <td>1000</td>\n",
       "      <td>1274</td>\n",
       "    </tr>\n",
       "    <tr>\n",
       "      <th>11455</th>\n",
       "      <td>219275</td>\n",
       "      <td>M. Kupczak</td>\n",
       "      <td>25</td>\n",
       "      <td>Termalica Bruk-Bet Nieciecza</td>\n",
       "      <td>475000</td>\n",
       "      <td>2000</td>\n",
       "      <td>1648</td>\n",
       "    </tr>\n",
       "    <tr>\n",
       "      <th>5156</th>\n",
       "      <td>190807</td>\n",
       "      <td>Yazalde</td>\n",
       "      <td>28</td>\n",
       "      <td>Rio Ave FC</td>\n",
       "      <td>1800000</td>\n",
       "      <td>8000</td>\n",
       "      <td>1763</td>\n",
       "    </tr>\n",
       "  </tbody>\n",
       "</table>\n",
       "</div>"
      ],
      "text/plain": [
       "           ID             Name  Age                          Club     Value  \\\n",
       "8859   209177     T. Bu Haymid   29                      Al Fayha    625000   \n",
       "5975   212024    G. Cvijanović   30                 Korona Kielce    975000   \n",
       "6503   198355         S. Clark   31                   D.C. United    650000   \n",
       "17394  231606     A. Jakupović   19                        Empoli    130000   \n",
       "9251   212340  S. Wannenwetsch   25                 Hansa Rostock    775000   \n",
       "438    193886        D. Didavi   27                 VfL Wolfsburg  17000000   \n",
       "4247   162891         D. Jones   32           Sheffield Wednesday   1800000   \n",
       "17157  208556         J. Lelan   22                  Crawley Town     90000   \n",
       "11455  219275       M. Kupczak   25  Termalica Bruk-Bet Nieciecza    475000   \n",
       "5156   190807          Yazalde   28                    Rio Ave FC   1800000   \n",
       "\n",
       "        Wage  Special  \n",
       "8859    7000     1789  \n",
       "5975    4000     1871  \n",
       "6503    4000     1106  \n",
       "17394   1000     1287  \n",
       "9251    1000     1778  \n",
       "438    73000     2074  \n",
       "4247   36000     1909  \n",
       "17157   1000     1274  \n",
       "11455   2000     1648  \n",
       "5156    8000     1763  "
      ]
     },
     "execution_count": 350,
     "metadata": {},
     "output_type": "execute_result"
    }
   ],
   "source": [
    "df[['Value', 'Wage']]= df[['Value', 'Wage']].map(lambda s:str_value(s)).astype('int')\n",
    "df.sample(10)"
   ]
  },
  {
   "cell_type": "code",
   "execution_count": 351,
   "id": "9f1e0ef9-f478-41b2-b3a1-8ac5e2e4e22e",
   "metadata": {},
   "outputs": [
    {
     "name": "stdout",
     "output_type": "stream",
     "text": [
      "<class 'pandas.core.frame.DataFrame'>\n",
      "RangeIndex: 17981 entries, 0 to 17980\n",
      "Data columns (total 7 columns):\n",
      " #   Column   Non-Null Count  Dtype \n",
      "---  ------   --------------  ----- \n",
      " 0   ID       17981 non-null  int64 \n",
      " 1   Name     17981 non-null  object\n",
      " 2   Age      17981 non-null  int64 \n",
      " 3   Club     17733 non-null  object\n",
      " 4   Value    17981 non-null  int32 \n",
      " 5   Wage     17981 non-null  int32 \n",
      " 6   Special  17981 non-null  int64 \n",
      "dtypes: int32(2), int64(3), object(2)\n",
      "memory usage: 843.0+ KB\n"
     ]
    }
   ],
   "source": [
    "df.info()"
   ]
  },
  {
   "cell_type": "markdown",
   "id": "56244166-c9ea-4dcc-892d-6f0eb910cd51",
   "metadata": {},
   "source": [
    "## EDA"
   ]
  },
  {
   "cell_type": "code",
   "execution_count": 352,
   "id": "adf1faf6-38a4-467c-a454-e715dff4c6cc",
   "metadata": {},
   "outputs": [
    {
     "data": {
      "text/html": [
       "<div>\n",
       "<style scoped>\n",
       "    .dataframe tbody tr th:only-of-type {\n",
       "        vertical-align: middle;\n",
       "    }\n",
       "\n",
       "    .dataframe tbody tr th {\n",
       "        vertical-align: top;\n",
       "    }\n",
       "\n",
       "    .dataframe thead th {\n",
       "        text-align: right;\n",
       "    }\n",
       "</style>\n",
       "<table border=\"1\" class=\"dataframe\">\n",
       "  <thead>\n",
       "    <tr style=\"text-align: right;\">\n",
       "      <th></th>\n",
       "      <th>ID</th>\n",
       "      <th>Name</th>\n",
       "      <th>Age</th>\n",
       "      <th>Club</th>\n",
       "      <th>Value</th>\n",
       "      <th>Wage</th>\n",
       "      <th>Special</th>\n",
       "    </tr>\n",
       "  </thead>\n",
       "  <tbody>\n",
       "    <tr>\n",
       "      <th>2</th>\n",
       "      <td>190871</td>\n",
       "      <td>Neymar</td>\n",
       "      <td>25</td>\n",
       "      <td>Paris Saint-Germain</td>\n",
       "      <td>123000000</td>\n",
       "      <td>280000</td>\n",
       "      <td>2100</td>\n",
       "    </tr>\n",
       "    <tr>\n",
       "      <th>1</th>\n",
       "      <td>158023</td>\n",
       "      <td>L. Messi</td>\n",
       "      <td>30</td>\n",
       "      <td>FC Barcelona</td>\n",
       "      <td>105000000</td>\n",
       "      <td>565000</td>\n",
       "      <td>2154</td>\n",
       "    </tr>\n",
       "    <tr>\n",
       "      <th>3</th>\n",
       "      <td>176580</td>\n",
       "      <td>L. Suárez</td>\n",
       "      <td>30</td>\n",
       "      <td>FC Barcelona</td>\n",
       "      <td>97000000</td>\n",
       "      <td>510000</td>\n",
       "      <td>2291</td>\n",
       "    </tr>\n",
       "    <tr>\n",
       "      <th>0</th>\n",
       "      <td>20801</td>\n",
       "      <td>Cristiano Ronaldo</td>\n",
       "      <td>32</td>\n",
       "      <td>Real Madrid CF</td>\n",
       "      <td>95500000</td>\n",
       "      <td>565000</td>\n",
       "      <td>2228</td>\n",
       "    </tr>\n",
       "    <tr>\n",
       "      <th>5</th>\n",
       "      <td>188545</td>\n",
       "      <td>R. Lewandowski</td>\n",
       "      <td>28</td>\n",
       "      <td>FC Bayern Munich</td>\n",
       "      <td>92000000</td>\n",
       "      <td>355000</td>\n",
       "      <td>2143</td>\n",
       "    </tr>\n",
       "    <tr>\n",
       "      <th>7</th>\n",
       "      <td>183277</td>\n",
       "      <td>E. Hazard</td>\n",
       "      <td>26</td>\n",
       "      <td>Chelsea</td>\n",
       "      <td>90500000</td>\n",
       "      <td>295000</td>\n",
       "      <td>2096</td>\n",
       "    </tr>\n",
       "    <tr>\n",
       "      <th>11</th>\n",
       "      <td>192985</td>\n",
       "      <td>K. De Bruyne</td>\n",
       "      <td>26</td>\n",
       "      <td>Manchester City</td>\n",
       "      <td>83000000</td>\n",
       "      <td>285000</td>\n",
       "      <td>2162</td>\n",
       "    </tr>\n",
       "    <tr>\n",
       "      <th>8</th>\n",
       "      <td>182521</td>\n",
       "      <td>T. Kroos</td>\n",
       "      <td>27</td>\n",
       "      <td>Real Madrid CF</td>\n",
       "      <td>79000000</td>\n",
       "      <td>340000</td>\n",
       "      <td>2165</td>\n",
       "    </tr>\n",
       "    <tr>\n",
       "      <th>19</th>\n",
       "      <td>211110</td>\n",
       "      <td>P. Dybala</td>\n",
       "      <td>23</td>\n",
       "      <td>Juventus</td>\n",
       "      <td>79000000</td>\n",
       "      <td>215000</td>\n",
       "      <td>2063</td>\n",
       "    </tr>\n",
       "    <tr>\n",
       "      <th>9</th>\n",
       "      <td>167664</td>\n",
       "      <td>G. Higuaín</td>\n",
       "      <td>29</td>\n",
       "      <td>Juventus</td>\n",
       "      <td>77000000</td>\n",
       "      <td>275000</td>\n",
       "      <td>1961</td>\n",
       "    </tr>\n",
       "  </tbody>\n",
       "</table>\n",
       "</div>"
      ],
      "text/plain": [
       "        ID               Name  Age                 Club      Value    Wage  \\\n",
       "2   190871             Neymar   25  Paris Saint-Germain  123000000  280000   \n",
       "1   158023           L. Messi   30         FC Barcelona  105000000  565000   \n",
       "3   176580          L. Suárez   30         FC Barcelona   97000000  510000   \n",
       "0    20801  Cristiano Ronaldo   32       Real Madrid CF   95500000  565000   \n",
       "5   188545     R. Lewandowski   28     FC Bayern Munich   92000000  355000   \n",
       "7   183277          E. Hazard   26              Chelsea   90500000  295000   \n",
       "11  192985       K. De Bruyne   26      Manchester City   83000000  285000   \n",
       "8   182521           T. Kroos   27       Real Madrid CF   79000000  340000   \n",
       "19  211110          P. Dybala   23             Juventus   79000000  215000   \n",
       "9   167664         G. Higuaín   29             Juventus   77000000  275000   \n",
       "\n",
       "    Special  \n",
       "2      2100  \n",
       "1      2154  \n",
       "3      2291  \n",
       "0      2228  \n",
       "5      2143  \n",
       "7      2096  \n",
       "11     2162  \n",
       "8      2165  \n",
       "19     2063  \n",
       "9      1961  "
      ]
     },
     "execution_count": 352,
     "metadata": {},
     "output_type": "execute_result"
    }
   ],
   "source": [
    "df.nlargest(10,'Value')"
   ]
  },
  {
   "cell_type": "code",
   "execution_count": 353,
   "id": "5843fe45-7530-4b5b-9e06-e8723cf642bb",
   "metadata": {},
   "outputs": [],
   "source": [
    "# Example\n",
    "# df.loc[:, \"Population\"] = df[\"Population\"].map('{:,d}'.format)\n",
    "# df.loc[:, \"PercentageVaccinated\"] = df[\"PercentageVaccinated\"].map('{:.2f}'.format)"
   ]
  },
  {
   "cell_type": "code",
   "execution_count": 354,
   "id": "9fd62b61-834b-4f01-b791-80f3aeff8775",
   "metadata": {},
   "outputs": [
    {
     "data": {
      "text/html": [
       "<div>\n",
       "<style scoped>\n",
       "    .dataframe tbody tr th:only-of-type {\n",
       "        vertical-align: middle;\n",
       "    }\n",
       "\n",
       "    .dataframe tbody tr th {\n",
       "        vertical-align: top;\n",
       "    }\n",
       "\n",
       "    .dataframe thead th {\n",
       "        text-align: right;\n",
       "    }\n",
       "</style>\n",
       "<table border=\"1\" class=\"dataframe\">\n",
       "  <thead>\n",
       "    <tr style=\"text-align: right;\">\n",
       "      <th></th>\n",
       "      <th>Value</th>\n",
       "      <th>Wage</th>\n",
       "    </tr>\n",
       "    <tr>\n",
       "      <th>Club</th>\n",
       "      <th></th>\n",
       "      <th></th>\n",
       "    </tr>\n",
       "  </thead>\n",
       "  <tbody>\n",
       "    <tr>\n",
       "      <th>Real Madrid CF</th>\n",
       "      <td>826,700,000</td>\n",
       "      <td>4,751,000</td>\n",
       "    </tr>\n",
       "    <tr>\n",
       "      <th>FC Barcelona</th>\n",
       "      <td>744,500,000</td>\n",
       "      <td>4,792,000</td>\n",
       "    </tr>\n",
       "    <tr>\n",
       "      <th>Paris Saint-Germain</th>\n",
       "      <td>631,750,000</td>\n",
       "      <td>2,198,000</td>\n",
       "    </tr>\n",
       "    <tr>\n",
       "      <th>FC Bayern Munich</th>\n",
       "      <td>748,825,000</td>\n",
       "      <td>3,273,000</td>\n",
       "    </tr>\n",
       "    <tr>\n",
       "      <th>Manchester United</th>\n",
       "      <td>625,300,000</td>\n",
       "      <td>3,653,000</td>\n",
       "    </tr>\n",
       "    <tr>\n",
       "      <th>Chelsea</th>\n",
       "      <td>673,085,000</td>\n",
       "      <td>3,537,000</td>\n",
       "    </tr>\n",
       "    <tr>\n",
       "      <th>Juventus</th>\n",
       "      <td>617,099,999</td>\n",
       "      <td>3,165,000</td>\n",
       "    </tr>\n",
       "    <tr>\n",
       "      <th>Manchester City</th>\n",
       "      <td>578,215,000</td>\n",
       "      <td>3,152,000</td>\n",
       "    </tr>\n",
       "    <tr>\n",
       "      <th>Arsenal</th>\n",
       "      <td>509,950,000</td>\n",
       "      <td>3,007,000</td>\n",
       "    </tr>\n",
       "    <tr>\n",
       "      <th>Atlético Madrid</th>\n",
       "      <td>566,150,000</td>\n",
       "      <td>1,581,000</td>\n",
       "    </tr>\n",
       "  </tbody>\n",
       "</table>\n",
       "</div>"
      ],
      "text/plain": [
       "                           Value       Wage\n",
       "Club                                       \n",
       "Real Madrid CF       826,700,000  4,751,000\n",
       "FC Barcelona         744,500,000  4,792,000\n",
       "Paris Saint-Germain  631,750,000  2,198,000\n",
       "FC Bayern Munich     748,825,000  3,273,000\n",
       "Manchester United    625,300,000  3,653,000\n",
       "Chelsea              673,085,000  3,537,000\n",
       "Juventus             617,099,999  3,165,000\n",
       "Manchester City      578,215,000  3,152,000\n",
       "Arsenal              509,950,000  3,007,000\n",
       "Atlético Madrid      566,150,000  1,581,000"
      ]
     },
     "execution_count": 354,
     "metadata": {},
     "output_type": "execute_result"
    }
   ],
   "source": [
    "df_top = df.groupby('Club',sort=False,)[['Value','Wage']].sum().map('{:,d}'.format).head(10)\n",
    "df_top"
   ]
  },
  {
   "cell_type": "code",
   "execution_count": 355,
   "id": "10fb1f95-2c86-488e-b2e1-248b5c202e1a",
   "metadata": {},
   "outputs": [
    {
     "name": "stdout",
     "output_type": "stream",
     "text": [
      "<class 'pandas.core.frame.DataFrame'>\n",
      "Index: 10 entries, Real Madrid CF to Atlético Madrid\n",
      "Data columns (total 2 columns):\n",
      " #   Column  Non-Null Count  Dtype \n",
      "---  ------  --------------  ----- \n",
      " 0   Value   10 non-null     object\n",
      " 1   Wage    10 non-null     object\n",
      "dtypes: object(2)\n",
      "memory usage: 240.0+ bytes\n"
     ]
    }
   ],
   "source": [
    "df_top.info()\n",
    "\n",
    "# format have been changed to 'object'"
   ]
  },
  {
   "cell_type": "code",
   "execution_count": 356,
   "id": "9be128e3-14f7-4f3e-ade4-548696e06061",
   "metadata": {},
   "outputs": [
    {
     "data": {
      "image/png": "[encoded data removed]",
      "text/plain": [
       "<Figure size 640x480 with 1 Axes>"
      ]
     },
     "metadata": {},
     "output_type": "display_data"
    }
   ],
   "source": [
    "df.groupby('Club',sort=False,)[['Value','Wage']].sum().nlargest(10,'Value').plot(kind='bar');"
   ]
  },
  {
   "cell_type": "code",
   "execution_count": 357,
   "id": "d82408ee-0a88-4a12-9c0b-741dd2e0e3f8",
   "metadata": {},
   "outputs": [
    {
     "data": {
      "text/plain": [
       "<Figure size 640x480 with 0 Axes>"
      ]
     },
     "metadata": {},
     "output_type": "display_data"
    },
    {
     "data": {
      "image/png": "[encoded data removed]",
      "text/plain": [
       "<Figure size 640x480 with 2 Axes>"
      ]
     },
     "metadata": {},
     "output_type": "display_data"
    }
   ],
   "source": [
    "plt.figure()\n",
    "ax = df.groupby('Club',sort=False,)[['Value','Wage']].sum().nlargest(10,'Value').plot(kind='bar',\\\n",
    "                                                                                 secondary_y = ['Wage'])\n",
    "ax.set_ylabel('Value')\n",
    "ax.yaxis.label.set_color('#1f77b4')\n",
    "ax.tick_params(axis='y', colors='#1f77b4')\n",
    "\n",
    "ax.right_ax.set_ylabel('Wage')\n",
    "ax.right_ax.yaxis.label.set_color('#ff7f0e')\n",
    "ax.right_ax.tick_params(axis='y', colors='#ff7f0e')"
   ]
  },
  {
   "cell_type": "markdown",
   "id": "f2b6438c-fcf0-428a-a4e6-dd40f8dfc153",
   "metadata": {},
   "source": [
    "standard color\n",
    "- https://stackoverflow.com/questions/61144583/how-can-i-get-the-standard-colors-used-in-pandas-dataframe-or-series-plot"
   ]
  },
  {
   "cell_type": "code",
   "execution_count": 411,
   "id": "52537e27-307f-4712-9fab-c0e3a996d37f",
   "metadata": {},
   "outputs": [
    {
     "data": {
      "image/png": "[encoded data removed]",
      "text/plain": [
       "<Figure size 1400x400 with 2 Axes>"
      ]
     },
     "metadata": {},
     "output_type": "display_data"
    }
   ],
   "source": [
    "fig, (ax1, ax2) = plt.subplots(1, 2)\n",
    "\n",
    "# ax1\n",
    "df.groupby('Club',sort=False,)[['Value','Wage']].sum().nlargest(10,'Value').plot(kind='bar',\n",
    "                                                                                 y ='Value',\n",
    "                                                                                 ax=ax1,\n",
    "                                                                                 figsize = (14,4),\n",
    "                                                                                 color ='#1f77b4'\n",
    "                                                                                )\n",
    "ax1.set_ylabel('Value')\n",
    "ax1.yaxis.label.set_color('#1f77b4')\n",
    "ax1.tick_params(axis='y', colors='#1f77b4')\n",
    "\n",
    "\n",
    "# ax2\n",
    "df.groupby('Club',sort=False,)[['Value','Wage']].sum().nlargest(10,'Wage').plot(kind='bar',\n",
    "                                                                                 y ='Wage', \n",
    "                                                                                 ax=ax2,\n",
    "                                                                                 figsize = (14,4),\n",
    "                                                                                 color='#ff7f0e'\n",
    "                                                                                )\n",
    "ax2.set_ylabel('Wage')\n",
    "ax2.yaxis.label.set_color('#ff7f0e')\n",
    "ax2.tick_params(axis='y', colors='#ff7f0e')"
   ]
  },
  {
   "cell_type": "code",
   "execution_count": null,
   "id": "1d8c8069-07e2-4441-b899-520e7388dbd1",
   "metadata": {},
   "outputs": [],
   "source": []
  }
 ],
 "metadata": {
  "kernelspec": {
   "display_name": "Python 3 (ipykernel)",
   "language": "python",
   "name": "python3"
  },
  "language_info": {
   "codemirror_mode": {
    "name": "ipython",
    "version": 3
   },
   "file_extension": ".py",
   "mimetype": "text/x-python",
   "name": "python",
   "nbconvert_exporter": "python",
   "pygments_lexer": "ipython3",
   "version": "3.11.9"
  }
 },
 "nbformat": 4,
 "nbformat_minor": 5
}
